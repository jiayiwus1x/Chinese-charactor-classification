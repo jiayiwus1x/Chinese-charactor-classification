{
 "cells": [
  {
   "cell_type": "code",
   "execution_count": 8,
   "metadata": {},
   "outputs": [],
   "source": [
    "from os import listdir\n",
    "from os.path import isfile, join\n",
    "import os"
   ]
  },
  {
   "cell_type": "code",
   "execution_count": 5,
   "metadata": {},
   "outputs": [],
   "source": [
    "mypath = '/Volumes/wusu/CharactersTrimPad28/'\n",
    "onlyfiles = [f for f in listdir(mypath) if isfile(join(mypath, f))]"
   ]
  },
  {
   "cell_type": "code",
   "execution_count": 6,
   "metadata": {},
   "outputs": [
    {
     "name": "stdout",
     "output_type": "stream",
     "text": [
      "['.DS_Store']\n"
     ]
    }
   ],
   "source": [
    "print(onlyfiles)"
   ]
  },
  {
   "cell_type": "code",
   "execution_count": 79,
   "metadata": {},
   "outputs": [
    {
     "name": "stdout",
     "output_type": "stream",
     "text": [
      "34113\n",
      "1000\n",
      "2000\n",
      "3000\n",
      "4000\n",
      "5000\n",
      "6000\n",
      "7000\n",
      "8000\n",
      "9000\n",
      "10000\n",
      "11000\n",
      "12000\n",
      "13000\n",
      "14000\n",
      "15000\n",
      "16000\n",
      "17000\n",
      "18000\n",
      "19000\n",
      "20000\n",
      "21000\n",
      "22000\n",
      "23000\n",
      "24000\n",
      "25000\n",
      "26000\n",
      "27000\n",
      "/Volumes/wusu/CharactersTrimPad28/鿌 27502\n",
      "/Volumes/wusu/CharactersTrimPad28/𠒌 27685\n",
      "/Volumes/wusu/CharactersTrimPad28/𠓊 27699\n",
      "/Volumes/wusu/CharactersTrimPad28/𠓭 27707\n",
      "/Volumes/wusu/CharactersTrimPad28/𠔥 27714\n",
      "/Volumes/wusu/CharactersTrimPad28/𠔿 27718\n",
      "/Volumes/wusu/CharactersTrimPad28/𠕀 27719\n",
      "/Volumes/wusu/CharactersTrimPad28/𠕋 27722\n",
      "/Volumes/wusu/CharactersTrimPad28/𠖄 27723\n",
      "/Volumes/wusu/CharactersTrimPad28/𠗮 27748\n",
      "/Volumes/wusu/CharactersTrimPad28/𠙚 27761\n",
      "/Volumes/wusu/CharactersTrimPad28/𠚣 27766\n",
      "/Volumes/wusu/CharactersTrimPad28/𠟈 27801\n",
      "/Volumes/wusu/CharactersTrimPad28/𠠝 27814\n",
      "/Volumes/wusu/CharactersTrimPad28/𠡟 27823\n",
      "/Volumes/wusu/CharactersTrimPad28/𠢆 27827\n",
      "/Volumes/wusu/CharactersTrimPad28/𠢉 27828\n",
      "/Volumes/wusu/CharactersTrimPad28/𠢧 27833\n",
      "/Volumes/wusu/CharactersTrimPad28/𠦄 27852\n",
      "/Volumes/wusu/CharactersTrimPad28/𠦅 27853\n",
      "/Volumes/wusu/CharactersTrimPad28/𠧩 27866\n",
      "/Volumes/wusu/CharactersTrimPad28/𠨐 27867\n",
      "/Volumes/wusu/CharactersTrimPad28/𠩂 27871\n",
      "/Volumes/wusu/CharactersTrimPad28/𠫤 27886\n",
      "/Volumes/wusu/CharactersTrimPad28/𠭴 27897\n",
      "/Volumes/wusu/CharactersTrimPad28/𠮜 27899\n",
      "/Volumes/wusu/CharactersTrimPad28/𠮱 27903\n",
      "/Volumes/wusu/CharactersTrimPad28/𠮻 27906\n",
      "/Volumes/wusu/CharactersTrimPad28/𠱐 27958\n",
      "/Volumes/wusu/CharactersTrimPad28/𠱴 27964\n",
      "28000\n",
      "/Volumes/wusu/CharactersTrimPad28/𠴭 28040\n",
      "/Volumes/wusu/CharactersTrimPad28/𠵖 28057\n",
      "/Volumes/wusu/CharactersTrimPad28/𠷬 28118\n",
      "/Volumes/wusu/CharactersTrimPad28/𠹁 28159\n",
      "/Volumes/wusu/CharactersTrimPad28/𠿋 28336\n",
      "/Volumes/wusu/CharactersTrimPad28/𠿕 28338\n",
      "/Volumes/wusu/CharactersTrimPad28/𠿠 28341\n",
      "/Volumes/wusu/CharactersTrimPad28/𡍤 28607\n",
      "/Volumes/wusu/CharactersTrimPad28/𡍮 28608\n",
      "/Volumes/wusu/CharactersTrimPad28/𡑞 28665\n",
      "/Volumes/wusu/CharactersTrimPad28/𡑟 28666\n",
      "/Volumes/wusu/CharactersTrimPad28/𡕒 28720\n",
      "/Volumes/wusu/CharactersTrimPad28/𡕩 28721\n",
      "/Volumes/wusu/CharactersTrimPad28/𡚹 28765\n",
      "/Volumes/wusu/CharactersTrimPad28/𡜵 28790\n",
      "/Volumes/wusu/CharactersTrimPad28/𡟓 28821\n",
      "/Volumes/wusu/CharactersTrimPad28/𡠀 28836\n",
      "/Volumes/wusu/CharactersTrimPad28/𡢘 28865\n",
      "/Volumes/wusu/CharactersTrimPad28/𡣬 28884\n",
      "/Volumes/wusu/CharactersTrimPad28/𡥩 28910\n",
      "/Volumes/wusu/CharactersTrimPad28/𡦌 28920\n",
      "/Volumes/wusu/CharactersTrimPad28/𡮎 28976\n",
      "29000\n",
      "/Volumes/wusu/CharactersTrimPad28/𡱒 29012\n",
      "/Volumes/wusu/CharactersTrimPad28/𡳞 29032\n",
      "/Volumes/wusu/CharactersTrimPad28/𡵘 29054\n",
      "/Volumes/wusu/CharactersTrimPad28/𡷤 29072\n",
      "/Volumes/wusu/CharactersTrimPad28/𡺬 29092\n",
      "/Volumes/wusu/CharactersTrimPad28/𡻟 29099\n",
      "/Volumes/wusu/CharactersTrimPad28/𡼎 29102\n",
      "/Volumes/wusu/CharactersTrimPad28/𡿖 29119\n",
      "/Volumes/wusu/CharactersTrimPad28/𡿧 29120\n",
      "/Volumes/wusu/CharactersTrimPad28/𡿮 29122\n",
      "/Volumes/wusu/CharactersTrimPad28/𢀷 29134\n",
      "/Volumes/wusu/CharactersTrimPad28/𢈉 29187\n",
      "/Volumes/wusu/CharactersTrimPad28/𢈔 29188\n",
      "30000\n",
      "31000\n",
      "/Volumes/wusu/CharactersTrimPad28/𤸫 31079\n",
      "/Volumes/wusu/CharactersTrimPad28/𤽌 31137\n",
      "/Volumes/wusu/CharactersTrimPad28/𤾡 31151\n",
      "/Volumes/wusu/CharactersTrimPad28/𤾴 31156\n",
      "/Volumes/wusu/CharactersTrimPad28/𥃳 31185\n",
      "/Volumes/wusu/CharactersTrimPad28/𥄂 31186\n",
      "/Volumes/wusu/CharactersTrimPad28/𥆅 31210\n",
      "/Volumes/wusu/CharactersTrimPad28/𥆒 31211\n",
      "/Volumes/wusu/CharactersTrimPad28/𥌚 31314\n",
      "/Volumes/wusu/CharactersTrimPad28/𥍉 31324\n",
      "/Volumes/wusu/CharactersTrimPad28/𥎊 31333\n",
      "/Volumes/wusu/CharactersTrimPad28/𥒲 31376\n",
      "/Volumes/wusu/CharactersTrimPad28/𥘇 31438\n",
      "/Volumes/wusu/CharactersTrimPad28/𥘦 31440\n",
      "/Volumes/wusu/CharactersTrimPad28/𥘫 31442\n",
      "/Volumes/wusu/CharactersTrimPad28/𥘬 31443\n",
      "/Volumes/wusu/CharactersTrimPad28/𥘮 31444\n",
      "/Volumes/wusu/CharactersTrimPad28/𥘰 31445\n",
      "/Volumes/wusu/CharactersTrimPad28/𥘽 31449\n",
      "/Volumes/wusu/CharactersTrimPad28/𥙉 31450\n",
      "/Volumes/wusu/CharactersTrimPad28/𥙋 31451\n",
      "/Volumes/wusu/CharactersTrimPad28/𥙫 31458\n",
      "/Volumes/wusu/CharactersTrimPad28/𥙮 31459\n",
      "/Volumes/wusu/CharactersTrimPad28/𥙷 31460\n",
      "/Volumes/wusu/CharactersTrimPad28/𥚊 31467\n",
      "/Volumes/wusu/CharactersTrimPad28/𥚑 31468\n",
      "/Volumes/wusu/CharactersTrimPad28/𥚳 31473\n",
      "/Volumes/wusu/CharactersTrimPad28/𥛜 31476\n",
      "/Volumes/wusu/CharactersTrimPad28/𥛲 31479\n",
      "/Volumes/wusu/CharactersTrimPad28/𥜅 31482\n",
      "/Volumes/wusu/CharactersTrimPad28/𥜒 31484\n",
      "/Volumes/wusu/CharactersTrimPad28/𥜚 31485\n",
      "/Volumes/wusu/CharactersTrimPad28/𥜧 31490\n",
      "/Volumes/wusu/CharactersTrimPad28/𥝕 31493\n",
      "/Volumes/wusu/CharactersTrimPad28/𥟎 31508\n",
      "/Volumes/wusu/CharactersTrimPad28/𥠈 31514\n",
      "/Volumes/wusu/CharactersTrimPad28/𥠵 31519\n",
      "/Volumes/wusu/CharactersTrimPad28/𥠻 31520\n",
      "/Volumes/wusu/CharactersTrimPad28/𥡆 31521\n",
      "/Volumes/wusu/CharactersTrimPad28/𥡞 31525\n",
      "/Volumes/wusu/CharactersTrimPad28/𥡥 31526\n",
      "/Volumes/wusu/CharactersTrimPad28/𥡪 31527\n",
      "/Volumes/wusu/CharactersTrimPad28/𥡵 31530\n",
      "/Volumes/wusu/CharactersTrimPad28/𥡷 31531\n",
      "/Volumes/wusu/CharactersTrimPad28/𥢸 31543\n",
      "/Volumes/wusu/CharactersTrimPad28/𥣫 31550\n",
      "/Volumes/wusu/CharactersTrimPad28/𥥷 31557\n",
      "/Volumes/wusu/CharactersTrimPad28/𥦁 31558\n",
      "/Volumes/wusu/CharactersTrimPad28/𥦌 31559\n",
      "/Volumes/wusu/CharactersTrimPad28/𥪧 31585\n",
      "/Volumes/wusu/CharactersTrimPad28/𥫗 31590\n",
      "/Volumes/wusu/CharactersTrimPad28/𥭘 31610\n",
      "/Volumes/wusu/CharactersTrimPad28/𥲃 31662\n",
      "/Volumes/wusu/CharactersTrimPad28/𥳌 31672\n",
      "/Volumes/wusu/CharactersTrimPad28/𥳏 31673\n",
      "/Volumes/wusu/CharactersTrimPad28/𥴊 31677\n",
      "/Volumes/wusu/CharactersTrimPad28/𥺝 31754\n",
      "/Volumes/wusu/CharactersTrimPad28/𥺴 31756\n",
      "/Volumes/wusu/CharactersTrimPad28/𥼶 31788\n",
      "/Volumes/wusu/CharactersTrimPad28/𥽕 31796\n",
      "/Volumes/wusu/CharactersTrimPad28/𥽬 31803\n",
      "/Volumes/wusu/CharactersTrimPad28/𥿜 31819\n",
      "/Volumes/wusu/CharactersTrimPad28/𥿽 31828\n",
      "/Volumes/wusu/CharactersTrimPad28/𦀈 31830\n",
      "/Volumes/wusu/CharactersTrimPad28/𦂧 31881\n",
      "/Volumes/wusu/CharactersTrimPad28/𦅀 31920\n",
      "/Volumes/wusu/CharactersTrimPad28/𦅻 31932\n",
      "/Volumes/wusu/CharactersTrimPad28/𦈢 31947\n",
      "/Volumes/wusu/CharactersTrimPad28/𦈨 31948\n",
      "/Volumes/wusu/CharactersTrimPad28/𦉇 31950\n",
      "/Volumes/wusu/CharactersTrimPad28/𦊓 31959\n",
      "/Volumes/wusu/CharactersTrimPad28/𦎱 31975\n",
      "/Volumes/wusu/CharactersTrimPad28/𦐇 31984\n",
      "/Volumes/wusu/CharactersTrimPad28/𦑌 31992\n",
      "32000\n",
      "/Volumes/wusu/CharactersTrimPad28/𦓯 32009\n",
      "/Volumes/wusu/CharactersTrimPad28/𦔃 32011\n",
      "/Volumes/wusu/CharactersTrimPad28/𦔘 32013\n",
      "/Volumes/wusu/CharactersTrimPad28/𦖢 32022\n",
      "/Volumes/wusu/CharactersTrimPad28/𦗀 32026\n",
      "/Volumes/wusu/CharactersTrimPad28/𦙆 32039\n",
      "/Volumes/wusu/CharactersTrimPad28/𦜆 32075\n",
      "/Volumes/wusu/CharactersTrimPad28/𦜓 32076\n",
      "/Volumes/wusu/CharactersTrimPad28/𦞧 32111\n",
      "/Volumes/wusu/CharactersTrimPad28/𦢎 32173\n",
      "/Volumes/wusu/CharactersTrimPad28/𦢪 32181\n",
      "/Volumes/wusu/CharactersTrimPad28/𦢫 32182\n",
      "/Volumes/wusu/CharactersTrimPad28/𦧊 32216\n",
      "/Volumes/wusu/CharactersTrimPad28/𦪭 32250\n",
      "/Volumes/wusu/CharactersTrimPad28/𦮎 32278\n",
      "/Volumes/wusu/CharactersTrimPad28/𦱇 32299\n",
      "/Volumes/wusu/CharactersTrimPad28/𦾏 32422\n",
      "/Volumes/wusu/CharactersTrimPad28/𧇓 32497\n",
      "/Volumes/wusu/CharactersTrimPad28/𧉟 32503\n",
      "/Volumes/wusu/CharactersTrimPad28/𧊷 32517\n",
      "/Volumes/wusu/CharactersTrimPad28/𧌄 32544\n",
      "/Volumes/wusu/CharactersTrimPad28/𧍔 32561\n",
      "/Volumes/wusu/CharactersTrimPad28/𧍗 32562\n",
      "/Volumes/wusu/CharactersTrimPad28/𧎳 32569\n",
      "/Volumes/wusu/CharactersTrimPad28/𧔥 32627\n",
      "/Volumes/wusu/CharactersTrimPad28/𧘑 32649\n",
      "/Volumes/wusu/CharactersTrimPad28/𧙧 32660\n",
      "/Volumes/wusu/CharactersTrimPad28/𧚉 32666\n",
      "/Volumes/wusu/CharactersTrimPad28/𧜁 32684\n",
      "/Volumes/wusu/CharactersTrimPad28/𧜅 32685\n",
      "/Volumes/wusu/CharactersTrimPad28/𧜞 32693\n",
      "/Volumes/wusu/CharactersTrimPad28/𧝓 32702\n",
      "/Volumes/wusu/CharactersTrimPad28/𧞸 32718\n",
      "/Volumes/wusu/CharactersTrimPad28/𧠼 32726\n",
      "/Volumes/wusu/CharactersTrimPad28/𧢽 32734\n",
      "/Volumes/wusu/CharactersTrimPad28/𧥦 32750\n",
      "/Volumes/wusu/CharactersTrimPad28/𧧸 32765\n",
      "/Volumes/wusu/CharactersTrimPad28/𧩶 32772\n",
      "/Volumes/wusu/CharactersTrimPad28/𧩻 32774\n",
      "/Volumes/wusu/CharactersTrimPad28/𧬩 32785\n",
      "/Volumes/wusu/CharactersTrimPad28/𧭮 32791\n",
      "/Volumes/wusu/CharactersTrimPad28/𧯆 32798\n",
      "/Volumes/wusu/CharactersTrimPad28/𧯾 32804\n",
      "/Volumes/wusu/CharactersTrimPad28/𧰵 32809\n",
      "/Volumes/wusu/CharactersTrimPad28/𧲨 32813\n",
      "/Volumes/wusu/CharactersTrimPad28/𧴪 32823\n",
      "/Volumes/wusu/CharactersTrimPad28/𧸙 32850\n",
      "/Volumes/wusu/CharactersTrimPad28/𧸼 32855\n",
      "/Volumes/wusu/CharactersTrimPad28/𧸽 32856\n"
     ]
    },
    {
     "name": "stdout",
     "output_type": "stream",
     "text": [
      "/Volumes/wusu/CharactersTrimPad28/𧹹 32868\n",
      "/Volumes/wusu/CharactersTrimPad28/𧺣 32877\n",
      "/Volumes/wusu/CharactersTrimPad28/𧽻 32890\n",
      "/Volumes/wusu/CharactersTrimPad28/𧿳 32901\n",
      "/Volumes/wusu/CharactersTrimPad28/𨁸 32950\n",
      "/Volumes/wusu/CharactersTrimPad28/𨂰 32962\n",
      "/Volumes/wusu/CharactersTrimPad28/𨃟 32979\n",
      "33000\n",
      "/Volumes/wusu/CharactersTrimPad28/𨅔 33028\n",
      "/Volumes/wusu/CharactersTrimPad28/𨆋 33046\n",
      "/Volumes/wusu/CharactersTrimPad28/𨉣 33097\n",
      "34000\n"
     ]
    }
   ],
   "source": [
    "j = 0\n",
    "print(len(os.listdir(mypath)))\n",
    "for i in os.listdir(mypath):\n",
    "    \n",
    "    if i != os.listdir(mypath)[0] and len(os.listdir(mypath + i))<5:\n",
    "        print(mypath + i, j)\n",
    "        for k in os.listdir(mypath + i):\n",
    "            os.remove(mypath + i +'/'+ k)\n",
    "#         print(os.listdir(mypath + i))\n",
    "        os.rmdir(mypath + i)\n",
    "#         break\n",
    "    j +=1\n",
    "    if j%1000 ==0:\n",
    "        print(j)\n",
    "        "
   ]
  },
  {
   "cell_type": "code",
   "execution_count": 80,
   "metadata": {},
   "outputs": [
    {
     "name": "stdout",
     "output_type": "stream",
     "text": [
      "33915\n",
      "['𪒷', '𪒽', '𪓇', '𪓈', '𪓪', '𪓫', '𪔚', '𪔠', '𪔡', '𪖠', '𪖫', '𪖬', '𪖭', '𪖺', '𪗀', '𪗆', '𪗋', '𪗱', '𪘁', '𪘂', '𪘌', '𪘚', '𪘨', '𪘲', '𪘵', '𪙁', '𪙊', '𪙛', '𪚚', '𪚤', '𪚩', '𪚲', '𪛅', '𪛇', '𪟝', '𪣻', '𪤗', '𪨰', '𪨶', '𪩘', '𪷤', '𪷿', '𪾢', '𫄧', '𫄨', '𫄷', '𫄸', '𫇭', '𫌀', '𫍣', '𫍯', '𫍲', '𫍽', '𫐄', '𫐐', '𫐓', '𫑡', '𫓧', '𫓯', '𫓶', '𫓹', '𫔍', '𫔎', '𫔶', '𫖮', '𫖯', '𫖳', '𫗧', '𫗴', '𫘜', '𫘝', '𫘦', '𫘧', '𫘨', '𫘪', '𫘬', '𫚕', '𫚖', '𫚭', '𫛭', '𫞩', '𫟅', '𫟦', '𫟹', '𫟼', '𫠆', '𫠊', '𫠜', '﨎', '﨏', '﨑', '﨓', '﨔', '﨟', '﨡', '﨣', '﨤', '﨧', '﨨', '﨩']\n"
     ]
    }
   ],
   "source": [
    "print(len(os.listdir(mypath)))\n",
    "print(os.listdir(mypath)[-100:])"
   ]
  },
  {
   "cell_type": "code",
   "execution_count": 36,
   "metadata": {},
   "outputs": [
    {
     "data": {
      "text/plain": [
       "['Japan Garden Ming chao Font-Simplified Chinese-Traditional Chinesettf.png']"
      ]
     },
     "execution_count": 36,
     "metadata": {},
     "output_type": "execute_result"
    }
   ],
   "source": [
    "os.listdir('/Volumes/wusu/CharactersTrimPad28/𠑰')"
   ]
  },
  {
   "cell_type": "code",
   "execution_count": 37,
   "metadata": {},
   "outputs": [
    {
     "data": {
      "text/plain": [
       "'﨧'"
      ]
     },
     "execution_count": 37,
     "metadata": {},
     "output_type": "execute_result"
    }
   ],
   "source": [
    "os.listdir(mypath)[-3]"
   ]
  },
  {
   "cell_type": "code",
   "execution_count": null,
   "metadata": {},
   "outputs": [],
   "source": []
  },
  {
   "cell_type": "code",
   "execution_count": null,
   "metadata": {},
   "outputs": [],
   "source": []
  },
  {
   "cell_type": "code",
   "execution_count": null,
   "metadata": {},
   "outputs": [],
   "source": []
  }
 ],
 "metadata": {
  "kernelspec": {
   "display_name": "Python 3",
   "language": "python",
   "name": "python3"
  },
  "language_info": {
   "codemirror_mode": {
    "name": "ipython",
    "version": 3
   },
   "file_extension": ".py",
   "mimetype": "text/x-python",
   "name": "python",
   "nbconvert_exporter": "python",
   "pygments_lexer": "ipython3",
   "version": "3.7.3"
  }
 },
 "nbformat": 4,
 "nbformat_minor": 2
}
