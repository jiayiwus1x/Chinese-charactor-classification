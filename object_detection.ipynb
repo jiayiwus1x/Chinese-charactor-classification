{
 "cells": [
  {
   "cell_type": "code",
   "execution_count": 75,
   "metadata": {},
   "outputs": [],
   "source": [
    "\n",
    "import os, sys, time, datetime, random\n",
    "import torch\n",
    "from torch import nn\n",
    "from torch import optim\n",
    "import torch.nn.functional as F\n",
    "from torchvision import datasets, transforms, models\n",
    "\n",
    "from torch.utils.data import DataLoader\n",
    "\n",
    "from torch.autograd import Variable\n",
    "import matplotlib.pyplot as plt\n",
    "import matplotlib.patches as patches\n",
    "from PIL import Image\n",
    "import model as m\n",
    "import utils\n",
    "import numpy as np"
   ]
  },
  {
   "cell_type": "code",
   "execution_count": 248,
   "metadata": {},
   "outputs": [],
   "source": [
    "size_IMG = 24\n",
    "depth_1 = 16\n",
    "depth_2 = 16\n",
    "num_classes = 1950\n",
    "\n",
    "class ConvNet(nn.Module):\n",
    "    def __init__(self):\n",
    "        super(ConvNet, self).__init__()\n",
    "        self.layer1 = nn.Sequential(\n",
    "            nn.Conv2d(1, depth_1, kernel_size=5, stride=1, padding=2),\n",
    "            nn.ReLU(),\n",
    "            nn.MaxPool2d(kernel_size=2, stride=2))\n",
    "        self.layer2 = nn.Sequential(\n",
    "            nn.Conv2d(depth_1, depth_2, kernel_size=5, stride=1, padding=2),\n",
    "            nn.ReLU(),\n",
    "            nn.MaxPool2d(kernel_size=2, stride=2))\n",
    "        self.drop_out = nn.Dropout()\n",
    "        self.fc1 = nn.Linear(int(size_IMG ** 2 / 16) * depth_2, 100)\n",
    "        self.fc2 = nn.Linear(100, num_classes)\n",
    "\n",
    "    def forward(self, x):\n",
    "        out = self.layer1(x)\n",
    "        # conv_x = self.layer2[0](out)\n",
    "\n",
    "        out = self.layer2(out)\n",
    "        # max_pool_x = out\n",
    "\n",
    "        out = out.reshape(out.size(0), -1)\n",
    "        out = self.drop_out(out)\n",
    "\n",
    "        out = self.fc1(out)\n",
    "        out = self.fc2(out)\n",
    "\n",
    "        return out#, conv_x, max_pool_x"
   ]
  },
  {
   "cell_type": "code",
   "execution_count": 249,
   "metadata": {},
   "outputs": [
    {
     "data": {
      "text/plain": [
       "ConvNet(\n",
       "  (layer1): Sequential(\n",
       "    (0): Conv2d(1, 16, kernel_size=(5, 5), stride=(1, 1), padding=(2, 2))\n",
       "    (1): ReLU()\n",
       "    (2): MaxPool2d(kernel_size=2, stride=2, padding=0, dilation=1, ceil_mode=False)\n",
       "  )\n",
       "  (layer2): Sequential(\n",
       "    (0): Conv2d(16, 16, kernel_size=(5, 5), stride=(1, 1), padding=(2, 2))\n",
       "    (1): ReLU()\n",
       "    (2): MaxPool2d(kernel_size=2, stride=2, padding=0, dilation=1, ceil_mode=False)\n",
       "  )\n",
       "  (drop_out): Dropout(p=0.5, inplace=False)\n",
       "  (fc1): Linear(in_features=576, out_features=100, bias=True)\n",
       "  (fc2): Linear(in_features=100, out_features=1950, bias=True)\n",
       ")"
      ]
     },
     "execution_count": 249,
     "metadata": {},
     "output_type": "execute_result"
    }
   ],
   "source": [
    "model = torch.load(\"conv_network_model\")#, map_location=device)\n",
    "model.eval()"
   ]
  },
  {
   "cell_type": "code",
   "execution_count": 415,
   "metadata": {},
   "outputs": [],
   "source": [
    "def make_square(im, min_size=10, fill_color=(255)):\n",
    "    x, y = im.size\n",
    "    size = 24#max(min_size, x, y)\n",
    "    new_im = Image.new('P', (size, size), fill_color)\n",
    "    new_im.paste(im, (int((size - x) / 2), int((size - y) / 2)))\n",
    "    return new_im"
   ]
  },
  {
   "cell_type": "code",
   "execution_count": 437,
   "metadata": {},
   "outputs": [],
   "source": [
    "def cropped_image(img, dl=20, ds=10, dn=2):\n",
    "    w, h = img.size\n",
    "\n",
    "    imgs = []\n",
    "    boxes = []\n",
    "    for i in range(0,img.size[0]-ds, dn):\n",
    "        for j in range(0,img.size[1]-ds, dn):\n",
    "            if j+dl<w:\n",
    "                box = (i,j,i+ds,j+dl)\n",
    "                im1 = img.crop(box)\n",
    "                im1 = make_square(im1)\n",
    "                \n",
    "                imgs.append(im1)\n",
    "                boxes.append(box)\n",
    "                \n",
    "            if i+dl<h:\n",
    "                box = (i,j,i+dl,j+ds)\n",
    "                im1 = img.crop(box)\n",
    "                \n",
    "                im1 = make_square(im1)\n",
    "                imgs.append(im1)\n",
    "                boxes.append(box)\n",
    "                \n",
    "            box = (i,j,i+ds,j+ds)\n",
    "            im1 = img.crop(box)\n",
    "            im1 = make_square(im1)\n",
    "            imgs.append(im1)\n",
    "            boxes.append(box)\n",
    "\n",
    "    return imgs, boxes\n",
    "    "
   ]
  },
  {
   "cell_type": "code",
   "execution_count": 463,
   "metadata": {},
   "outputs": [],
   "source": [
    "def detect_image(img, size_IMG):\n",
    "    # scale and pad image\n",
    "#     print(img.size)\n",
    "    \n",
    "    img_transforms= transforms.Compose(\n",
    "        [transforms.Resize(size_IMG),     \n",
    "         transforms.ToTensor(),\n",
    "         ])\n",
    "    \n",
    "    # convert image to Tensor\n",
    "    tensorimage = img_transforms(img).float()\n",
    "    \n",
    "   \n",
    "    outputs = model(tensorimage.view(1,1,size_IMG,size_IMG).cuda())\n",
    "    if torch.max(F.softmax(outputs))>0.7:\n",
    "\n",
    "        _, predicted = torch.max(outputs.data, 1)\n",
    "        print(labels[predicted])\n",
    "        if labels[predicted] in pianpanglist:\n",
    "            return labels[predicted]"
   ]
  },
  {
   "cell_type": "code",
   "execution_count": 464,
   "metadata": {},
   "outputs": [],
   "source": [
    "imgs, boxes = cropped_image(img)"
   ]
  },
  {
   "cell_type": "code",
   "execution_count": 465,
   "metadata": {},
   "outputs": [],
   "source": [
    "strs = np.loadtxt('pianpang.txt',delimiter='\\n',dtype=str)\n",
    "pianpanglist = []\n",
    "for stri in list(strs):\n",
    "    pianpanglist+=stri.split()"
   ]
  },
  {
   "cell_type": "code",
   "execution_count": 466,
   "metadata": {},
   "outputs": [
    {
     "name": "stdout",
     "output_type": "stream",
     "text": [
      "153\n",
      "['一' '丁' '七' ... '姷' '姹' '姺']\n",
      "['丨', '亅', '丿', '乛', '一', '乙', '乚', '丶', '八', '勹', '匕', '冫', '卜', '厂', '刀', '刂', '儿', '二', '匚', '阝', '丷', '几', '卩', '冂', '力', '冖', '凵', '人', '亻', '入', '十', '厶', '亠', '匸', '讠', '廴', '又', '艹', '屮', '彳', '巛', '川', '辶', '寸', '大', '飞', '干', '工', '弓', '廾', '广', '己', '彐', '彑', '巾', '口', '马', '门', '宀', '女', '犭', '山', '彡', '尸', '饣', '士', '扌', '氵', '纟', '巳', '土', '囗', '兀', '夕', '小', '忄', '幺', '弋', '尢', '夂', '子', '贝', '比', '灬', '长', '车', '歹', '斗', '厄', '方', '风', '父', '戈', '卝', '户', '火', '旡', '见', '斤', '耂', '毛', '木', '肀', '牛', '牜', '爿', '片', '攴', '攵', '气', '欠', '犬', '日', '氏', '礻', '手', '殳', '水', '瓦', '尣', '王', '韦', '文', '毋', '心', '牙', '爻', '曰', '月', '爫', '支', '止', '爪', '白', '癶', '歺', '甘', '瓜', '禾', '钅', '立', '龙', '矛', '皿', '母', '目', '疒', '鸟', '皮', '生', '石', '矢', '示', '罒', '田', '玄', '穴', '疋', '业', '衤', '用', '玉', '耒', '艸', '臣', '虫', '而', '耳', '缶', '艮', '虍', '臼', '米', '齐', '肉', '色', '舌', '覀', '页', '先', '行', '血', '羊', '聿', '至', '舟', '衣', '竹', '自', '羽', '糸', '糹', '貝', '采', '镸', '車', '辰', '赤', '辵', '豆', '谷', '見', '角', '克', '里', '卤', '麦', '身', '豕', '辛', '言', '邑', '酉', '豸', '走', '足', '青', '靑', '雨', '齿', '長', '非', '阜', '金', '釒', '隶', '門', '靣', '飠', '鱼', '隹', '風', '革', '骨', '鬼', '韭', '面', '首', '韋', '香', '頁', '音', '髟', '鬯', '鬥', '高', '鬲', '馬', '黄', '鹵', '鹿', '麻', '麥', '鳥', '魚', '鼎', '黑', '黽', '黍', '黹', '鼓', '鼠', '鼻', '齊', '齒', '龍', '龠']\n"
     ]
    }
   ],
   "source": [
    "\n",
    "print(len(imgs))\n",
    "labels = np.load(\"labels.npy\")\n",
    "print(labels)\n",
    "\n",
    "print(pianpanglist)"
   ]
  },
  {
   "cell_type": "code",
   "execution_count": 467,
   "metadata": {},
   "outputs": [
    {
     "data": {
      "text/plain": [
       "PIL.PngImagePlugin.PngImageFile"
      ]
     },
     "execution_count": 467,
     "metadata": {},
     "output_type": "execute_result"
    }
   ],
   "source": [
    "# print(boxes)\n",
    "type(img)"
   ]
  },
  {
   "cell_type": "code",
   "execution_count": 468,
   "metadata": {
    "scrolled": true
   },
   "outputs": [
    {
     "name": "stdout",
     "output_type": "stream",
     "text": [
      "亻\n",
      "亻 (0, 0, 10, 20)\n"
     ]
    },
    {
     "name": "stderr",
     "output_type": "stream",
     "text": [
      "/home/wonton/anaconda3/envs/momotorch/lib/python3.7/site-packages/ipykernel_launcher.py:15: UserWarning: Implicit dimension choice for softmax has been deprecated. Change the call to include dim=X as an argument.\n",
      "  from ipykernel import kernelapp as app\n"
     ]
    },
    {
     "data": {
      "image/png": "[encoded data removed]",
      "text/plain": [
       "<Figure size 432x288 with 1 Axes>"
      ]
     },
     "metadata": {
      "needs_background": "light"
     },
     "output_type": "display_data"
    },
    {
     "name": "stdout",
     "output_type": "stream",
     "text": [
      "亻\n",
      "亻 (0, 2, 10, 22)\n"
     ]
    },
    {
     "data": {
      "image/png": "[encoded data removed]",
      "text/plain": [
       "<Figure size 432x288 with 1 Axes>"
      ]
     },
     "metadata": {
      "needs_background": "light"
     },
     "output_type": "display_data"
    },
    {
     "name": "stdout",
     "output_type": "stream",
     "text": [
      "叭\n",
      "叭\n",
      "份\n"
     ]
    }
   ],
   "source": [
    "\n",
    "for inds,im in enumerate(imgs):\n",
    "#     print(im.size)\n",
    "    lab = detect_image(im, img_size) \n",
    "    if lab:\n",
    "        print(lab, boxes[inds])\n",
    "        plt.imshow(im)\n",
    "        plt.show()"
   ]
  },
  {
   "cell_type": "code",
   "execution_count": 258,
   "metadata": {},
   "outputs": [
    {
     "data": {
      "text/plain": [
       "<matplotlib.image.AxesImage at 0x7f07812a9f98>"
      ]
     },
     "execution_count": 258,
     "metadata": {},
     "output_type": "execute_result"
    },
    {
     "data": {
      "image/png": "[encoded data removed]",
      "text/plain": [
       "<Figure size 432x288 with 1 Axes>"
      ]
     },
     "metadata": {
      "needs_background": "light"
     },
     "output_type": "display_data"
    }
   ],
   "source": [
    "im1 = img.crop((0,0,10,25))\n",
    "plt.imshow(im1)\n"
   ]
  },
  {
   "cell_type": "code",
   "execution_count": 25,
   "metadata": {
    "scrolled": true
   },
   "outputs": [
    {
     "name": "stdout",
     "output_type": "stream",
     "text": [
      "(28, 28)\n"
     ]
    },
    {
     "data": {
      "text/plain": [
       "<matplotlib.image.AxesImage at 0x7f0781b8a320>"
      ]
     },
     "execution_count": 25,
     "metadata": {},
     "output_type": "execute_result"
    },
    {
     "data": {
      "image/png": "[encoded data removed]",
      "text/plain": [
       "<Figure size 432x288 with 1 Axes>"
      ]
     },
     "metadata": {
      "needs_background": "light"
     },
     "output_type": "display_data"
    }
   ],
   "source": [
    "# load image and get detections\n",
    "data_path = '/home/wonton/jiayi/projects/Chinese-charactor-classification-before202001/commoncharacter>500/'\n",
    "img_path = data_path + \"/份/Angular Handsome Song Chinese Font -Simplified Chinese Fontsttf.png\"\n",
    "prev_time = time.time()\n",
    "img = Image.open(img_path)\n",
    "print(img.size)\n",
    "plt.imshow(img)\n"
   ]
  }
 ],
 "metadata": {
  "kernelspec": {
   "display_name": "Python 3",
   "language": "python",
   "name": "python3"
  },
  "language_info": {
   "codemirror_mode": {
    "name": "ipython",
    "version": 3
   },
   "file_extension": ".py",
   "mimetype": "text/x-python",
   "name": "python",
   "nbconvert_exporter": "python",
   "pygments_lexer": "ipython3",
   "version": "3.7.3"
  }
 },
 "nbformat": 4,
 "nbformat_minor": 2
}
