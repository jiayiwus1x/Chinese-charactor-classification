{
 "cells": [
  {
   "cell_type": "code",
   "execution_count": 1,
   "metadata": {},
   "outputs": [],
   "source": [
    "%matplotlib inline\n",
    "%config InlineBackend.figure_format = 'retina'\n",
    "import matplotlib.pyplot as plt\n",
    "import numpy as np\n",
    "import glob,os\n",
    "\n",
    "# font_path = \"/usr/share/fonts/opentype/noto/NotoSansCJK-Regular.ttc\"\n",
    "# prop = mfm.FontProperties(fname=font_path)"
   ]
  },
  {
   "cell_type": "code",
   "execution_count": 2,
   "metadata": {},
   "outputs": [],
   "source": [
    "data_dir ='./results/'"
   ]
  },
  {
   "cell_type": "markdown",
   "metadata": {},
   "source": [
    "## loading data"
   ]
  },
  {
   "cell_type": "code",
   "execution_count": 3,
   "metadata": {},
   "outputs": [],
   "source": [
    "# labels\n",
    "L = np.load(data_dir + \"/L.npy\")\n",
    "# data from torch\n",
    "tor_data = np.load(data_dir+ \"/tor_data.npy\")\n",
    "# data after tsne\n",
    "X_embedded = np.load(data_dir + \"/X_embedded.npy\")\n",
    "#square difference from the center\n",
    "SE = np.load(data_dir+ \"/SE.npy\")\n",
    "\n",
    "subgroup_hier= np.load(data_dir+ \"/subgroup_hier.npy\", allow_pickle=True)"
   ]
  },
  {
   "cell_type": "markdown",
   "metadata": {},
   "source": [
    "### load k-mean results"
   ]
  },
  {
   "cell_type": "code",
   "execution_count": 4,
   "metadata": {},
   "outputs": [],
   "source": [
    "U = np.load(data_dir+\"k_mean_15classes.npy\",allow_pickle=True)\n",
    "cl = U.item().get(\"cl\")\n",
    "c =  U.item().get(\"c\")\n",
    "k =  U.item().get(\"k\")"
   ]
  },
  {
   "cell_type": "code",
   "execution_count": 5,
   "metadata": {},
   "outputs": [],
   "source": [
    "### print out k-mean results"
   ]
  },
  {
   "cell_type": "code",
   "execution_count": 6,
   "metadata": {
    "scrolled": true
   },
   "outputs": [],
   "source": [
    "text = ''\n",
    "array_text = []\n",
    "for i in range(k):\n",
    "#     print(\"group%d:\"%i, np.array(L)[np.where(cl.numpy()==i)])\n",
    "#     print(str(np.array(L)[np.where(cl.numpy()==i)]))\n",
    "    text += \"group%d:\"%i + str(np.array(L)[np.where(cl.numpy()==i)]) +'\\r\\n'\n",
    "    array_text.append(np.array(L)[np.where(cl.numpy()==i)])\n",
    "\n"
   ]
  },
  {
   "cell_type": "code",
   "execution_count": 7,
   "metadata": {},
   "outputs": [],
   "source": [
    "# fig = plt.figure(figsize=(10,10))\n",
    "# cmap = plt.cm.get_cmap(\"Dark2\", k)\n",
    "# ax = fig.add_subplot(111)\n",
    "# ax.scatter(X_embedded[:,0], X_embedded[:,1], \n",
    "#            c = cmap(cl.cpu().numpy()), alpha = 0.5)\n",
    "# cmap = plt.cm.get_cmap(\"Dark2\", k)\n",
    "# # for i in range(len(X_embedded[:,0])):\n",
    "   \n",
    "# #     if i%5==0:\n",
    "# #         ax.text(X_embedded[i,0], X_embedded[i,1],\n",
    "# #                  L[i], color = cmap(cl.cpu()[i].numpy()),\n",
    "# #                  size = 14, alpha = 0.8)\n",
    "\n",
    "# plt.xticks([],[])\n",
    "# plt.yticks([],[])\n",
    "# plt.show()\n",
    "# # plt.savefig(data_saving_path + \"/cluster_results_Tsn_k_%d.png\"%k)"
   ]
  },
  {
   "cell_type": "markdown",
   "metadata": {},
   "source": [
    "# Putting meaning into the node in graph"
   ]
  },
  {
   "cell_type": "code",
   "execution_count": 8,
   "metadata": {
    "scrolled": true
   },
   "outputs": [
    {
     "name": "stdout",
     "output_type": "stream",
     "text": [
      "jiǒng\n",
      "['variant of 冏[jiong3]',\n",
      "'used as emoticon\n",
      "(\"smiley\") meaning\n",
      "embarrassed, sad :-(,\n",
      "depressed or frustrated']\n"
     ]
    }
   ],
   "source": [
    "import pinyin\n",
    "import pinyin.cedict\n",
    "import textwrap\n",
    "print(pinyin.get(L[0]))\n",
    "s = str(pinyin.cedict.translate_word(L[0]))\n",
    "print(textwrap.fill(s,25))"
   ]
  },
  {
   "cell_type": "code",
   "execution_count": 9,
   "metadata": {},
   "outputs": [],
   "source": [
    "defs = []\n",
    "ps = []\n",
    "nones = 0\n",
    "filterL = []\n",
    "for i in range(len(L)):\n",
    "    \n",
    "    s = str(pinyin.cedict.translate_word(L[i]))\n",
    "    definition = textwrap.fill(s,35)   \n",
    "    \n",
    "    if definition == 'None':\n",
    "        nones += 1\n",
    "    else:\n",
    "        filterL.append(i)\n",
    "    \n",
    "        Pinyin = str(pinyin.get(L[i]))\n",
    "        defs.append(definition)\n",
    "        ps.append(Pinyin)\n"
   ]
  },
  {
   "cell_type": "markdown",
   "metadata": {},
   "source": [
    "# Plot using Bokeh"
   ]
  },
  {
   "cell_type": "code",
   "execution_count": 10,
   "metadata": {},
   "outputs": [],
   "source": [
    "from bokeh.transform import linear_cmap\n",
    "from bokeh.palettes import Category20\n",
    "from bokeh.io import output_file, show, output_notebook\n",
    "from bokeh.models import ColumnDataSource, Plot, ColorBar, OpenURL, TapTool, CustomJS,Range1d,  Label\n",
    "from bokeh.plotting import figure, save\n",
    "from bokeh.models.glyphs import ImageURL\n",
    "from bokeh.layouts import row\n",
    "\n",
    "from random import random\n",
    "from bokeh.models import CustomJS, ColumnDataSource, Row, Column\n",
    "from bokeh.plotting import figure, show, curdoc,reset_output\n",
    "from bokeh.models.widgets import Button, TableColumn, Div,DataTable,TextInput\n"
   ]
  },
  {
   "cell_type": "code",
   "execution_count": 11,
   "metadata": {},
   "outputs": [
    {
     "name": "stdout",
     "output_type": "stream",
     "text": [
      "./image/dengrograms/group_0.png\n"
     ]
    }
   ],
   "source": [
    "den_add = \"./image/dengrograms\"\n",
    "colors = cl.cpu()[filterL].tolist()\n",
    "files = [den_add +'/group_%d.png'%i for i in colors]\n",
    "print(files[0])"
   ]
  },
  {
   "cell_type": "code",
   "execution_count": 12,
   "metadata": {},
   "outputs": [],
   "source": [
    "subgroup_hier_array =[]\n",
    "for i in range(15):\n",
    "    subgroup_hier_array.append(np.array(subgroup_hier.item()[i]))\n",
    "Sgroups = [subgroup_hier_array[colors[i]] for i in range(len(colors))]"
   ]
  },
  {
   "cell_type": "code",
   "execution_count": 13,
   "metadata": {},
   "outputs": [
    {
     "name": "stdout",
     "output_type": "stream",
     "text": [
      "1515\n"
     ]
    }
   ],
   "source": [
    "print(len(Sgroups))"
   ]
  },
  {
   "cell_type": "code",
   "execution_count": 14,
   "metadata": {},
   "outputs": [
    {
     "name": "stdout",
     "output_type": "stream",
     "text": [
      "1515\n"
     ]
    }
   ],
   "source": [
    "classes = colors.copy()\n",
    "# print(max(colors))\n",
    "print(len(files))"
   ]
  },
  {
   "cell_type": "code",
   "execution_count": 15,
   "metadata": {},
   "outputs": [],
   "source": [
    "sub_inds = []\n",
    "for i,word in enumerate(np.array(L)[filterL].tolist()):\n",
    "#     print(i,word,Sgroups[i])\n",
    "    for ind,lists in enumerate(Sgroups[i]):\n",
    "        for j in lists:\n",
    "            if j==word:      \n",
    "                \n",
    "                sub_inds+=[ind]\n",
    "#                 print(sub_inds)\n",
    "                break\n",
    "        \n",
    "#     sys.exit()\n",
    "        "
   ]
  },
  {
   "cell_type": "code",
   "execution_count": 16,
   "metadata": {},
   "outputs": [
    {
     "name": "stdout",
     "output_type": "stream",
     "text": [
      "1515\n"
     ]
    }
   ],
   "source": [
    "print(len(sub_inds))"
   ]
  },
  {
   "cell_type": "code",
   "execution_count": 17,
   "metadata": {},
   "outputs": [],
   "source": [
    "output_file('plot1.html')\n",
    "TOOLTIPS = \"\"\"     \n",
    "<div> \n",
    "    <div>\n",
    "        <span style=\"font-size: 17px; font-weight: bold;\">@desc</span>\n",
    "        <span style=\"font-size: 15px; color: #966;\">[$index]</span>\n",
    "    </div>\n",
    "    <div>\n",
    "        <span style=\"font-size: 15px;\">Pinyin:</span>\n",
    "        <span style=\"font-size: 15px; color: #696;\">(@pinyin)</span>\n",
    "    </div>\n",
    "    <div>\n",
    "        <span style=\"font-size: 15px;\">Class</span>\n",
    "        <span style=\"font-size: 15px; color: #696;\">(@colors)</span>\n",
    "\n",
    "    </div>\n",
    "    <div>\n",
    "        <span style=\"font-size: 15px;\">Def</span>\n",
    "        <span style=\"font-size: 10px;white-space: pre-line\">(@meaning)</span>\n",
    "    </div>     \n",
    "\n",
    "</div>\n",
    "\"\"\"\n",
    "\n",
    "st = ColumnDataSource(data = dict(\n",
    "    desc=[],\n",
    "    classes=[],\n",
    "    words=[],\n",
    "    meaning=[],\n",
    "\n",
    "    pinyin = [],\n",
    "))\n",
    "\n",
    "s1 = ColumnDataSource(data=dict(\n",
    "    x=X_embedded[:,0][filterL],\n",
    "    y=X_embedded[:,1][filterL],\n",
    "    desc=np.array(L)[filterL].tolist(),\n",
    "\n",
    "    colors = colors,\n",
    "    meaning = defs,\n",
    "    pinyin = ps,\n",
    "    sizes = list(np.max(SE)-np.array(SE)[filterL]),\n",
    "    classes = classes,\n",
    "    images_files = files,\n",
    "    words=Sgroups,\n",
    "    Sinds = sub_inds,\n",
    "\n",
    "))\n",
    "\n",
    "s2 = ColumnDataSource(data=dict(images_files=[]))\n",
    "s1.selected.js_on_change('indices', CustomJS(args=dict(s1=s1, s2=s2, st=st), code=\"\"\"\n",
    "    var inds = cb_obj.indices;\n",
    "    var d1 = s1.data;\n",
    "    var d2 = s2.data;\n",
    "    var d3 = st.data;\n",
    "\n",
    "    console.log(inds)\n",
    "    \n",
    "\n",
    "    d2['images_files'] = []\n",
    "    d2['images_files'].push(d1['images_files'][inds[0]])\n",
    "    console.log(d2['images_files'])\n",
    "    for (var i = 0; i < inds.length; i++) {\n",
    "        \n",
    "\n",
    "        d3['pinyin'].push(d1['pinyin'][inds[i]]);\n",
    "        d3['meaning'].push(d1['meaning'][inds[i]]);\n",
    "        d3['classes'].push(d1['classes'][inds[i]]);\n",
    "        d3['desc'].push(d1['desc'][inds[i]]);\n",
    "        \n",
    "        \n",
    "        var s_ind = d1['Sinds'][inds[i]];\n",
    "        console.log(s_ind)\n",
    "        \n",
    "        d3['words'].push(d1['words'][inds[i]][s_ind]);\n",
    "\n",
    "\n",
    "    }\n",
    "    s2.change.emit();\n",
    "    st.change.emit();\n",
    "\"\"\")\n",
    ")\n",
    "\n",
    "\n",
    "\n",
    "cb_click = CustomJS(args=dict(s1=s1), code=\"\"\"\n",
    "    \n",
    "    var user_input = cb_obj.value\n",
    "    var d1 = s1.data\n",
    "    desc = d1['desc']\n",
    "    \n",
    "    console.log(user_input)\n",
    "    for (var i = 0; i < d1['x'].length; i++) {\n",
    "        if(desc[i] == user_input) {\n",
    "            var idx = i;\n",
    "            \n",
    "            break;\n",
    "           } \n",
    "        }\n",
    "    console.log(idx)\n",
    "\n",
    "    l_selected = s1.selected\n",
    "    \n",
    "    console.log(s1.selected['1d'])\n",
    "    console.log(l_selected.indices)\n",
    "    s1.selected = l_selected\n",
    "\n",
    "    console.log(s1.selected.indices)\n",
    "    s1.selected.indices = [idx]\n",
    "    s1.data = s1.data\n",
    "    s1.selected.change.emit()\n",
    "\n",
    "    \"\"\")\n",
    "mapper = linear_cmap(field_name='colors', palette=Category20[max(colors)] ,low=min(colors) ,high=max(colors))\n",
    "\n",
    "text_input = TextInput(value=\"\", title=\"Search character here:\",callback = cb_click)\n",
    "\n",
    "p1 = figure(plot_width=650, plot_height=500, tooltips=TOOLTIPS, tools=\"tap\", toolbar_location=\"above\",\n",
    "           title=\"Cluster of Chinese characters (k-means visualized by t-SNE)\")\n",
    "\n",
    "p1.circle('x', 'y', size = 'sizes', fill_color=mapper, line_color=None, fill_alpha=0.75, source=s1)\n",
    "color_bar = ColorBar(color_mapper=mapper['transform'], width=8,  location=(0,0))\n",
    "\n",
    "p1.add_layout(color_bar, 'right')\n",
    "\n",
    "\n",
    "p2 = figure(plot_width=400, plot_height=400,  x_range=(-50, 50), y_range=(-50, 50), \\\n",
    "            title=\"viewing words within the same class\")\n",
    "\n",
    "p2.image_url(url=\"images_files\", source = s2, x=-60, y=60, w=120, h=120)\n",
    "\n",
    "\n",
    "columns = [\n",
    "    TableColumn(field=\"desc\", title=\"word\",width=5),\n",
    "    TableColumn(field=\"pinyin\", title=\"pinyin\",width=5),\n",
    "    TableColumn(field=\"meaning\", title=\"meaning\",width=15),\n",
    "    TableColumn(field=\"classes\", title=\"class\",width=5),\n",
    "    TableColumn(field=\"words\", title=\"subclass it in\",width=100),\n",
    "\n",
    "]\n",
    "\n",
    "data_table = DataTable(source=st, columns=columns, width=1200, height=500,reorderable=True,\\\n",
    "                       editable=True,selectable=True)\n",
    "\n",
    "layout = Column(text_input, row(p1, p2), data_table)\n",
    "#layout = Column(text_input, row(p1, p2))\n",
    "\n",
    "show(layout)\n"
   ]
  },
  {
   "cell_type": "code",
   "execution_count": null,
   "metadata": {},
   "outputs": [],
   "source": [
    "print([len(array_text[i]) for i in range(15)])"
   ]
  },
  {
   "cell_type": "code",
   "execution_count": null,
   "metadata": {},
   "outputs": [],
   "source": [
    "reset_output()"
   ]
  },
  {
   "cell_type": "code",
   "execution_count": null,
   "metadata": {},
   "outputs": [],
   "source": []
  }
 ],
 "metadata": {
  "anaconda-cloud": {},
  "kernelspec": {
   "display_name": "Python [conda env:ML3]",
   "language": "python",
   "name": "conda-env-ML3-py"
  },
  "language_info": {
   "codemirror_mode": {
    "name": "ipython",
    "version": 3
   },
   "file_extension": ".py",
   "mimetype": "text/x-python",
   "name": "python",
   "nbconvert_exporter": "python",
   "pygments_lexer": "ipython3",
   "version": "3.7.3"
  }
 },
 "nbformat": 4,
 "nbformat_minor": 2
}
