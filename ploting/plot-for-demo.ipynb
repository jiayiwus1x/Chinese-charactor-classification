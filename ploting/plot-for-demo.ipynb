{
 "cells": [
  {
   "cell_type": "code",
   "execution_count": 1,
   "metadata": {},
   "outputs": [],
   "source": [
    "%matplotlib inline\n",
    "%config InlineBackend.figure_format = 'retina'\n",
    "import matplotlib.pyplot as plt\n",
    "import numpy as np\n",
    "import glob,os\n",
    "\n",
    "# font_path = \"/usr/share/fonts/opentype/noto/NotoSansCJK-Regular.ttc\"\n",
    "# prop = mfm.FontProperties(fname=font_path)"
   ]
  },
  {
   "cell_type": "code",
   "execution_count": 2,
   "metadata": {},
   "outputs": [],
   "source": [
    "data_dir ='./results/'"
   ]
  },
  {
   "cell_type": "markdown",
   "metadata": {},
   "source": [
    "## loading data"
   ]
  },
  {
   "cell_type": "code",
   "execution_count": 3,
   "metadata": {},
   "outputs": [],
   "source": [
    "# labels\n",
    "L = np.load(data_dir + \"/L.npy\")\n",
    "# data from torch\n",
    "tor_data = np.load(data_dir+ \"/tor_data.npy\")\n",
    "# data after tsne\n",
    "X_embedded = np.load(data_dir + \"/X_embedded.npy\")\n",
    "#square difference from the center\n",
    "SE = np.load(data_dir+ \"/SE.npy\")\n",
    "\n",
    "subgroup_hier= np.load(data_dir+ \"/subgroup_hier.npy\", allow_pickle=True)"
   ]
  },
  {
   "cell_type": "code",
   "execution_count": 17,
   "metadata": {},
   "outputs": [
    {
     "name": "stdout",
     "output_type": "stream",
     "text": [
      "[\"['兡' '兣' '兞' '兙' '兛' '兝' '兢']\", \"['妗' '姈' '姱' '始' '姶']\", \"['姤' '妧' '妘' '妺' '妹' '姝' '妳' '妎' '妢' '妍' '姘' '姨' '姚' '姺' '妖' '妩']\", \"['姪' '姃' '妬' '姅' '妤' '妊' '奸' '好' '姥' '姹' '奼']\", \"['奻' '姲' '姣' '妓' '妼' '妪' '姒' '奴' '妙' '处']\", \"['姁' '姷' '加' '妁' '妇' '如' '妫' '妒' '妨' '妈' '奶']\", \"['姮' '姆' '俎' '妃' '妞' '妮' '姬' '妲' '姐' '姙' '姍' '姗' '姑' '姞' '妯' '姊' '她' '妣'\\n '姓']\"]\n"
     ]
    }
   ],
   "source": [
    "print(subgroup_hier.item()[7])"
   ]
  },
  {
   "cell_type": "markdown",
   "metadata": {},
   "source": [
    "### load k-mean results"
   ]
  },
  {
   "cell_type": "code",
   "execution_count": 4,
   "metadata": {},
   "outputs": [],
   "source": [
    "U = np.load(data_dir+\"k_mean_15classes.npy\",allow_pickle=True)\n",
    "cl = U.item().get(\"cl\")\n",
    "c =  U.item().get(\"c\")\n",
    "k =  U.item().get(\"k\")"
   ]
  },
  {
   "cell_type": "code",
   "execution_count": 5,
   "metadata": {},
   "outputs": [],
   "source": [
    "### print out k-mean results\n"
   ]
  },
  {
   "cell_type": "code",
   "execution_count": 5,
   "metadata": {
    "scrolled": true
   },
   "outputs": [],
   "source": [
    "text = ''\n",
    "array_text = []\n",
    "for i in range(k):\n",
    "#     print(\"group%d:\"%i, np.array(L)[np.where(cl.numpy()==i)])\n",
    "#     print(str(np.array(L)[np.where(cl.numpy()==i)]))\n",
    "    text += \"group%d:\"%i + str(np.array(L)[np.where(cl.numpy()==i)]) +'\\r\\n'\n",
    "    array_text.append(np.array(L)[np.where(cl.numpy()==i)])\n",
    "\n"
   ]
  },
  {
   "cell_type": "markdown",
   "metadata": {},
   "source": [
    "# Putting meaning into the node in graph"
   ]
  },
  {
   "cell_type": "code",
   "execution_count": 6,
   "metadata": {
    "scrolled": true
   },
   "outputs": [
    {
     "name": "stdout",
     "output_type": "stream",
     "text": [
      "jiǒng\n",
      "['variant of 冏[jiong3]',\n",
      "'used as emoticon\n",
      "(\"smiley\") meaning\n",
      "embarrassed, sad :-(,\n",
      "depressed or frustrated']\n"
     ]
    }
   ],
   "source": [
    "import pinyin\n",
    "import pinyin.cedict\n",
    "import textwrap\n",
    "print(pinyin.get(L[0]))\n",
    "s = str(pinyin.cedict.translate_word(L[0]))\n",
    "print(textwrap.fill(s,25))"
   ]
  },
  {
   "cell_type": "code",
   "execution_count": 7,
   "metadata": {},
   "outputs": [],
   "source": [
    "defs = []\n",
    "ps = []\n",
    "nones = 0\n",
    "filterL = []\n",
    "for i in range(len(L)):\n",
    "    \n",
    "    s = str(pinyin.cedict.translate_word(L[i]))\n",
    "    definition = textwrap.fill(s,35)   \n",
    "    \n",
    "    if definition == 'None':\n",
    "        nones += 1\n",
    "    else:\n",
    "        filterL.append(i)\n",
    "    \n",
    "        Pinyin = str(pinyin.get(L[i]))\n",
    "        defs.append(definition)\n",
    "        ps.append(Pinyin)\n"
   ]
  },
  {
   "cell_type": "markdown",
   "metadata": {},
   "source": [
    "# Plot using Bokeh"
   ]
  },
  {
   "cell_type": "code",
   "execution_count": 73,
   "metadata": {},
   "outputs": [],
   "source": [
    "from bokeh.transform import linear_cmap\n",
    "from bokeh.palettes import Category20\n",
    "from bokeh.io import output_file, show, output_notebook\n",
    "from bokeh.models import ColumnDataSource, Plot, ColorBar, OpenURL, TapTool, CustomJS,Range1d,  Label\n",
    "from bokeh.plotting import figure, save\n",
    "from bokeh.models.glyphs import ImageURL\n",
    "from bokeh.layouts import row\n",
    "\n",
    "from random import random\n",
    "from bokeh.models import CustomJS, ColumnDataSource, Row, Column,LabelSet, Label\n",
    "from bokeh.plotting import figure, show, curdoc,reset_output\n",
    "from bokeh.models.widgets import Button, TableColumn, Div,DataTable,TextInput\n"
   ]
  },
  {
   "cell_type": "code",
   "execution_count": 47,
   "metadata": {},
   "outputs": [
    {
     "name": "stdout",
     "output_type": "stream",
     "text": [
      "./static/dengrograms/group_0.png\n"
     ]
    }
   ],
   "source": [
    "den_add = \"./static/dengrograms\"\n",
    "\n",
    "files = [den_add +'/group_%d.png'%i for i in colors]\n",
    "print(files[0])"
   ]
  },
  {
   "cell_type": "code",
   "execution_count": 48,
   "metadata": {},
   "outputs": [],
   "source": [
    "subgroup_hier_array =[]\n",
    "for i in range(15):\n",
    "    subgroup_hier_array.append(np.array(subgroup_hier.item()[i]))\n",
    "Sgroups = [subgroup_hier_array[colors[i]] for i in range(len(colors))]"
   ]
  },
  {
   "cell_type": "code",
   "execution_count": 49,
   "metadata": {},
   "outputs": [
    {
     "name": "stdout",
     "output_type": "stream",
     "text": [
      "1515\n"
     ]
    }
   ],
   "source": [
    "print(len(Sgroups))"
   ]
  },
  {
   "cell_type": "code",
   "execution_count": 50,
   "metadata": {},
   "outputs": [
    {
     "name": "stdout",
     "output_type": "stream",
     "text": [
      "1515\n"
     ]
    }
   ],
   "source": [
    "classes = colors.copy()\n",
    "# print(max(colors))\n",
    "print(len(files))"
   ]
  },
  {
   "cell_type": "code",
   "execution_count": 51,
   "metadata": {},
   "outputs": [],
   "source": [
    "sub_inds = []\n",
    "for i,word in enumerate(np.array(L)[filterL].tolist()):\n",
    "#     print(i,word,Sgroups[i])\n",
    "    for ind,lists in enumerate(Sgroups[i]):\n",
    "        for j in lists:\n",
    "            if j==word:      \n",
    "                \n",
    "                sub_inds+=[ind]\n",
    "#                 print(sub_inds)\n",
    "                break\n",
    "        \n",
    "#     sys.exit()\n",
    "        "
   ]
  },
  {
   "cell_type": "code",
   "execution_count": 58,
   "metadata": {},
   "outputs": [],
   "source": [
    "group7 = np.where(cl==7)\n",
    "colors = cl.cpu()[group7].tolist()"
   ]
  },
  {
   "cell_type": "code",
   "execution_count": 67,
   "metadata": {},
   "outputs": [],
   "source": [
    "sizes = (np.max(SE)-np.array(SE))[group7]"
   ]
  },
  {
   "cell_type": "code",
   "execution_count": 85,
   "metadata": {},
   "outputs": [
    {
     "data": {
      "text/html": [
       "\n",
       "    <div class=\"bk-root\">\n",
       "        <a href=\"https://bokeh.org\" target=\"_blank\" class=\"bk-logo bk-logo-small bk-logo-notebook\"></a>\n",
       "        <span id=\"5325\">Loading BokehJS ...</span>\n",
       "    </div>"
      ]
     },
     "metadata": {},
     "output_type": "display_data"
    },
    {
     "data": {
      "application/javascript": [
       "\n",
       "(function(root) {\n",
       "  function now() {\n",
       "    return new Date();\n",
       "  }\n",
       "\n",
       "  var force = true;\n",
       "\n",
       "  if (typeof root._bokeh_onload_callbacks === \"undefined\" || force === true) {\n",
       "    root._bokeh_onload_callbacks = [];\n",
       "    root._bokeh_is_loading = undefined;\n",
       "  }\n",
       "\n",
       "  var JS_MIME_TYPE = 'application/javascript';\n",
       "  var HTML_MIME_TYPE = 'text/html';\n",
       "  var EXEC_MIME_TYPE = 'application/vnd.bokehjs_exec.v0+json';\n",
       "  var CLASS_NAME = 'output_bokeh rendered_html';\n",
       "\n",
       "  /**\n",
       "   * Render data to the DOM node\n",
       "   */\n",
       "  function render(props, node) {\n",
       "    var script = document.createElement(\"script\");\n",
       "    node.appendChild(script);\n",
       "  }\n",
       "\n",
       "  /**\n",
       "   * Handle when an output is cleared or removed\n",
       "   */\n",
       "  function handleClearOutput(event, handle) {\n",
       "    var cell = handle.cell;\n",
       "\n",
       "    var id = cell.output_area._bokeh_element_id;\n",
       "    var server_id = cell.output_area._bokeh_server_id;\n",
       "    // Clean up Bokeh references\n",
       "    if (id != null && id in Bokeh.index) {\n",
       "      Bokeh.index[id].model.document.clear();\n",
       "      delete Bokeh.index[id];\n",
       "    }\n",
       "\n",
       "    if (server_id !== undefined) {\n",
       "      // Clean up Bokeh references\n",
       "      var cmd = \"from bokeh.io.state import curstate; print(curstate().uuid_to_server['\" + server_id + \"'].get_sessions()[0].document.roots[0]._id)\";\n",
       "      cell.notebook.kernel.execute(cmd, {\n",
       "        iopub: {\n",
       "          output: function(msg) {\n",
       "            var id = msg.content.text.trim();\n",
       "            if (id in Bokeh.index) {\n",
       "              Bokeh.index[id].model.document.clear();\n",
       "              delete Bokeh.index[id];\n",
       "            }\n",
       "          }\n",
       "        }\n",
       "      });\n",
       "      // Destroy server and session\n",
       "      var cmd = \"import bokeh.io.notebook as ion; ion.destroy_server('\" + server_id + \"')\";\n",
       "      cell.notebook.kernel.execute(cmd);\n",
       "    }\n",
       "  }\n",
       "\n",
       "  /**\n",
       "   * Handle when a new output is added\n",
       "   */\n",
       "  function handleAddOutput(event, handle) {\n",
       "    var output_area = handle.output_area;\n",
       "    var output = handle.output;\n",
       "\n",
       "    // limit handleAddOutput to display_data with EXEC_MIME_TYPE content only\n",
       "    if ((output.output_type != \"display_data\") || (!output.data.hasOwnProperty(EXEC_MIME_TYPE))) {\n",
       "      return\n",
       "    }\n",
       "\n",
       "    var toinsert = output_area.element.find(\".\" + CLASS_NAME.split(' ')[0]);\n",
       "\n",
       "    if (output.metadata[EXEC_MIME_TYPE][\"id\"] !== undefined) {\n",
       "      toinsert[toinsert.length - 1].firstChild.textContent = output.data[JS_MIME_TYPE];\n",
       "      // store reference to embed id on output_area\n",
       "      output_area._bokeh_element_id = output.metadata[EXEC_MIME_TYPE][\"id\"];\n",
       "    }\n",
       "    if (output.metadata[EXEC_MIME_TYPE][\"server_id\"] !== undefined) {\n",
       "      var bk_div = document.createElement(\"div\");\n",
       "      bk_div.innerHTML = output.data[HTML_MIME_TYPE];\n",
       "      var script_attrs = bk_div.children[0].attributes;\n",
       "      for (var i = 0; i < script_attrs.length; i++) {\n",
       "        toinsert[toinsert.length - 1].firstChild.setAttribute(script_attrs[i].name, script_attrs[i].value);\n",
       "      }\n",
       "      // store reference to server id on output_area\n",
       "      output_area._bokeh_server_id = output.metadata[EXEC_MIME_TYPE][\"server_id\"];\n",
       "    }\n",
       "  }\n",
       "\n",
       "  function register_renderer(events, OutputArea) {\n",
       "\n",
       "    function append_mime(data, metadata, element) {\n",
       "      // create a DOM node to render to\n",
       "      var toinsert = this.create_output_subarea(\n",
       "        metadata,\n",
       "        CLASS_NAME,\n",
       "        EXEC_MIME_TYPE\n",
       "      );\n",
       "      this.keyboard_manager.register_events(toinsert);\n",
       "      // Render to node\n",
       "      var props = {data: data, metadata: metadata[EXEC_MIME_TYPE]};\n",
       "      render(props, toinsert[toinsert.length - 1]);\n",
       "      element.append(toinsert);\n",
       "      return toinsert\n",
       "    }\n",
       "\n",
       "    /* Handle when an output is cleared or removed */\n",
       "    events.on('clear_output.CodeCell', handleClearOutput);\n",
       "    events.on('delete.Cell', handleClearOutput);\n",
       "\n",
       "    /* Handle when a new output is added */\n",
       "    events.on('output_added.OutputArea', handleAddOutput);\n",
       "\n",
       "    /**\n",
       "     * Register the mime type and append_mime function with output_area\n",
       "     */\n",
       "    OutputArea.prototype.register_mime_type(EXEC_MIME_TYPE, append_mime, {\n",
       "      /* Is output safe? */\n",
       "      safe: true,\n",
       "      /* Index of renderer in `output_area.display_order` */\n",
       "      index: 0\n",
       "    });\n",
       "  }\n",
       "\n",
       "  // register the mime type if in Jupyter Notebook environment and previously unregistered\n",
       "  if (root.Jupyter !== undefined) {\n",
       "    var events = require('base/js/events');\n",
       "    var OutputArea = require('notebook/js/outputarea').OutputArea;\n",
       "\n",
       "    if (OutputArea.prototype.mime_types().indexOf(EXEC_MIME_TYPE) == -1) {\n",
       "      register_renderer(events, OutputArea);\n",
       "    }\n",
       "  }\n",
       "\n",
       "  \n",
       "  if (typeof (root._bokeh_timeout) === \"undefined\" || force === true) {\n",
       "    root._bokeh_timeout = Date.now() + 5000;\n",
       "    root._bokeh_failed_load = false;\n",
       "  }\n",
       "\n",
       "  var NB_LOAD_WARNING = {'data': {'text/html':\n",
       "     \"<div style='background-color: #fdd'>\\n\"+\n",
       "     \"<p>\\n\"+\n",
       "     \"BokehJS does not appear to have successfully loaded. If loading BokehJS from CDN, this \\n\"+\n",
       "     \"may be due to a slow or bad network connection. Possible fixes:\\n\"+\n",
       "     \"</p>\\n\"+\n",
       "     \"<ul>\\n\"+\n",
       "     \"<li>re-rerun `output_notebook()` to attempt to load from CDN again, or</li>\\n\"+\n",
       "     \"<li>use INLINE resources instead, as so:</li>\\n\"+\n",
       "     \"</ul>\\n\"+\n",
       "     \"<code>\\n\"+\n",
       "     \"from bokeh.resources import INLINE\\n\"+\n",
       "     \"output_notebook(resources=INLINE)\\n\"+\n",
       "     \"</code>\\n\"+\n",
       "     \"</div>\"}};\n",
       "\n",
       "  function display_loaded() {\n",
       "    var el = document.getElementById(\"5325\");\n",
       "    if (el != null) {\n",
       "      el.textContent = \"BokehJS is loading...\";\n",
       "    }\n",
       "    if (root.Bokeh !== undefined) {\n",
       "      if (el != null) {\n",
       "        el.textContent = \"BokehJS \" + root.Bokeh.version + \" successfully loaded.\";\n",
       "      }\n",
       "    } else if (Date.now() < root._bokeh_timeout) {\n",
       "      setTimeout(display_loaded, 100)\n",
       "    }\n",
       "  }\n",
       "\n",
       "\n",
       "  function run_callbacks() {\n",
       "    try {\n",
       "      root._bokeh_onload_callbacks.forEach(function(callback) {\n",
       "        if (callback != null)\n",
       "          callback();\n",
       "      });\n",
       "    } finally {\n",
       "      delete root._bokeh_onload_callbacks\n",
       "    }\n",
       "    console.debug(\"Bokeh: all callbacks have finished\");\n",
       "  }\n",
       "\n",
       "  function load_libs(css_urls, js_urls, callback) {\n",
       "    if (css_urls == null) css_urls = [];\n",
       "    if (js_urls == null) js_urls = [];\n",
       "\n",
       "    root._bokeh_onload_callbacks.push(callback);\n",
       "    if (root._bokeh_is_loading > 0) {\n",
       "      console.debug(\"Bokeh: BokehJS is being loaded, scheduling callback at\", now());\n",
       "      return null;\n",
       "    }\n",
       "    if (js_urls == null || js_urls.length === 0) {\n",
       "      run_callbacks();\n",
       "      return null;\n",
       "    }\n",
       "    console.debug(\"Bokeh: BokehJS not loaded, scheduling load and callback at\", now());\n",
       "    root._bokeh_is_loading = css_urls.length + js_urls.length;\n",
       "\n",
       "    function on_load() {\n",
       "      root._bokeh_is_loading--;\n",
       "      if (root._bokeh_is_loading === 0) {\n",
       "        console.debug(\"Bokeh: all BokehJS libraries/stylesheets loaded\");\n",
       "        run_callbacks()\n",
       "      }\n",
       "    }\n",
       "\n",
       "    function on_error() {\n",
       "      console.error(\"failed to load \" + url);\n",
       "    }\n",
       "\n",
       "    for (var i = 0; i < css_urls.length; i++) {\n",
       "      var url = css_urls[i];\n",
       "      const element = document.createElement(\"link\");\n",
       "      element.onload = on_load;\n",
       "      element.onerror = on_error;\n",
       "      element.rel = \"stylesheet\";\n",
       "      element.type = \"text/css\";\n",
       "      element.href = url;\n",
       "      console.debug(\"Bokeh: injecting link tag for BokehJS stylesheet: \", url);\n",
       "      document.body.appendChild(element);\n",
       "    }\n",
       "\n",
       "    for (var i = 0; i < js_urls.length; i++) {\n",
       "      var url = js_urls[i];\n",
       "      var element = document.createElement('script');\n",
       "      element.onload = on_load;\n",
       "      element.onerror = on_error;\n",
       "      element.async = false;\n",
       "      element.src = url;\n",
       "      console.debug(\"Bokeh: injecting script tag for BokehJS library: \", url);\n",
       "      document.head.appendChild(element);\n",
       "    }\n",
       "  };var element = document.getElementById(\"5325\");\n",
       "  if (element == null) {\n",
       "    console.error(\"Bokeh: ERROR: autoload.js configured with elementid '5325' but no matching script tag was found. \")\n",
       "    return false;\n",
       "  }\n",
       "\n",
       "  function inject_raw_css(css) {\n",
       "    const element = document.createElement(\"style\");\n",
       "    element.appendChild(document.createTextNode(css));\n",
       "    document.body.appendChild(element);\n",
       "  }\n",
       "\n",
       "  \n",
       "  var js_urls = [\"https://cdn.pydata.org/bokeh/release/bokeh-1.4.0.min.js\", \"https://cdn.pydata.org/bokeh/release/bokeh-widgets-1.4.0.min.js\", \"https://cdn.pydata.org/bokeh/release/bokeh-tables-1.4.0.min.js\", \"https://cdn.pydata.org/bokeh/release/bokeh-gl-1.4.0.min.js\"];\n",
       "  var css_urls = [];\n",
       "  \n",
       "\n",
       "  var inline_js = [\n",
       "    function(Bokeh) {\n",
       "      Bokeh.set_log_level(\"info\");\n",
       "    },\n",
       "    function(Bokeh) {\n",
       "    \n",
       "    \n",
       "    }\n",
       "  ];\n",
       "\n",
       "  function run_inline_js() {\n",
       "    \n",
       "    if (root.Bokeh !== undefined || force === true) {\n",
       "      \n",
       "    for (var i = 0; i < inline_js.length; i++) {\n",
       "      inline_js[i].call(root, root.Bokeh);\n",
       "    }\n",
       "    if (force === true) {\n",
       "        display_loaded();\n",
       "      }} else if (Date.now() < root._bokeh_timeout) {\n",
       "      setTimeout(run_inline_js, 100);\n",
       "    } else if (!root._bokeh_failed_load) {\n",
       "      console.log(\"Bokeh: BokehJS failed to load within specified timeout.\");\n",
       "      root._bokeh_failed_load = true;\n",
       "    } else if (force !== true) {\n",
       "      var cell = $(document.getElementById(\"5325\")).parents('.cell').data().cell;\n",
       "      cell.output_area.append_execute_result(NB_LOAD_WARNING)\n",
       "    }\n",
       "\n",
       "  }\n",
       "\n",
       "  if (root._bokeh_is_loading === 0) {\n",
       "    console.debug(\"Bokeh: BokehJS loaded, going straight to plotting\");\n",
       "    run_inline_js();\n",
       "  } else {\n",
       "    load_libs(css_urls, js_urls, function() {\n",
       "      console.debug(\"Bokeh: BokehJS plotting callback run at\", now());\n",
       "      run_inline_js();\n",
       "    });\n",
       "  }\n",
       "}(window));"
      ],
      "application/vnd.bokehjs_load.v0+json": "\n(function(root) {\n  function now() {\n    return new Date();\n  }\n\n  var force = true;\n\n  if (typeof root._bokeh_onload_callbacks === \"undefined\" || force === true) {\n    root._bokeh_onload_callbacks = [];\n    root._bokeh_is_loading = undefined;\n  }\n\n  \n\n  \n  if (typeof (root._bokeh_timeout) === \"undefined\" || force === true) {\n    root._bokeh_timeout = Date.now() + 5000;\n    root._bokeh_failed_load = false;\n  }\n\n  var NB_LOAD_WARNING = {'data': {'text/html':\n     \"<div style='background-color: #fdd'>\\n\"+\n     \"<p>\\n\"+\n     \"BokehJS does not appear to have successfully loaded. If loading BokehJS from CDN, this \\n\"+\n     \"may be due to a slow or bad network connection. Possible fixes:\\n\"+\n     \"</p>\\n\"+\n     \"<ul>\\n\"+\n     \"<li>re-rerun `output_notebook()` to attempt to load from CDN again, or</li>\\n\"+\n     \"<li>use INLINE resources instead, as so:</li>\\n\"+\n     \"</ul>\\n\"+\n     \"<code>\\n\"+\n     \"from bokeh.resources import INLINE\\n\"+\n     \"output_notebook(resources=INLINE)\\n\"+\n     \"</code>\\n\"+\n     \"</div>\"}};\n\n  function display_loaded() {\n    var el = document.getElementById(\"5325\");\n    if (el != null) {\n      el.textContent = \"BokehJS is loading...\";\n    }\n    if (root.Bokeh !== undefined) {\n      if (el != null) {\n        el.textContent = \"BokehJS \" + root.Bokeh.version + \" successfully loaded.\";\n      }\n    } else if (Date.now() < root._bokeh_timeout) {\n      setTimeout(display_loaded, 100)\n    }\n  }\n\n\n  function run_callbacks() {\n    try {\n      root._bokeh_onload_callbacks.forEach(function(callback) {\n        if (callback != null)\n          callback();\n      });\n    } finally {\n      delete root._bokeh_onload_callbacks\n    }\n    console.debug(\"Bokeh: all callbacks have finished\");\n  }\n\n  function load_libs(css_urls, js_urls, callback) {\n    if (css_urls == null) css_urls = [];\n    if (js_urls == null) js_urls = [];\n\n    root._bokeh_onload_callbacks.push(callback);\n    if (root._bokeh_is_loading > 0) {\n      console.debug(\"Bokeh: BokehJS is being loaded, scheduling callback at\", now());\n      return null;\n    }\n    if (js_urls == null || js_urls.length === 0) {\n      run_callbacks();\n      return null;\n    }\n    console.debug(\"Bokeh: BokehJS not loaded, scheduling load and callback at\", now());\n    root._bokeh_is_loading = css_urls.length + js_urls.length;\n\n    function on_load() {\n      root._bokeh_is_loading--;\n      if (root._bokeh_is_loading === 0) {\n        console.debug(\"Bokeh: all BokehJS libraries/stylesheets loaded\");\n        run_callbacks()\n      }\n    }\n\n    function on_error() {\n      console.error(\"failed to load \" + url);\n    }\n\n    for (var i = 0; i < css_urls.length; i++) {\n      var url = css_urls[i];\n      const element = document.createElement(\"link\");\n      element.onload = on_load;\n      element.onerror = on_error;\n      element.rel = \"stylesheet\";\n      element.type = \"text/css\";\n      element.href = url;\n      console.debug(\"Bokeh: injecting link tag for BokehJS stylesheet: \", url);\n      document.body.appendChild(element);\n    }\n\n    for (var i = 0; i < js_urls.length; i++) {\n      var url = js_urls[i];\n      var element = document.createElement('script');\n      element.onload = on_load;\n      element.onerror = on_error;\n      element.async = false;\n      element.src = url;\n      console.debug(\"Bokeh: injecting script tag for BokehJS library: \", url);\n      document.head.appendChild(element);\n    }\n  };var element = document.getElementById(\"5325\");\n  if (element == null) {\n    console.error(\"Bokeh: ERROR: autoload.js configured with elementid '5325' but no matching script tag was found. \")\n    return false;\n  }\n\n  function inject_raw_css(css) {\n    const element = document.createElement(\"style\");\n    element.appendChild(document.createTextNode(css));\n    document.body.appendChild(element);\n  }\n\n  \n  var js_urls = [\"https://cdn.pydata.org/bokeh/release/bokeh-1.4.0.min.js\", \"https://cdn.pydata.org/bokeh/release/bokeh-widgets-1.4.0.min.js\", \"https://cdn.pydata.org/bokeh/release/bokeh-tables-1.4.0.min.js\", \"https://cdn.pydata.org/bokeh/release/bokeh-gl-1.4.0.min.js\"];\n  var css_urls = [];\n  \n\n  var inline_js = [\n    function(Bokeh) {\n      Bokeh.set_log_level(\"info\");\n    },\n    function(Bokeh) {\n    \n    \n    }\n  ];\n\n  function run_inline_js() {\n    \n    if (root.Bokeh !== undefined || force === true) {\n      \n    for (var i = 0; i < inline_js.length; i++) {\n      inline_js[i].call(root, root.Bokeh);\n    }\n    if (force === true) {\n        display_loaded();\n      }} else if (Date.now() < root._bokeh_timeout) {\n      setTimeout(run_inline_js, 100);\n    } else if (!root._bokeh_failed_load) {\n      console.log(\"Bokeh: BokehJS failed to load within specified timeout.\");\n      root._bokeh_failed_load = true;\n    } else if (force !== true) {\n      var cell = $(document.getElementById(\"5325\")).parents('.cell').data().cell;\n      cell.output_area.append_execute_result(NB_LOAD_WARNING)\n    }\n\n  }\n\n  if (root._bokeh_is_loading === 0) {\n    console.debug(\"Bokeh: BokehJS loaded, going straight to plotting\");\n    run_inline_js();\n  } else {\n    load_libs(css_urls, js_urls, function() {\n      console.debug(\"Bokeh: BokehJS plotting callback run at\", now());\n      run_inline_js();\n    });\n  }\n}(window));"
     },
     "metadata": {},
     "output_type": "display_data"
    },
    {
     "data": {
      "text/html": [
       "\n",
       "\n",
       "\n",
       "\n",
       "\n",
       "\n",
       "  <div class=\"bk-root\" id=\"01ab9b7a-d23f-4f1d-9328-ef21be027357\" data-root-id=\"5330\"></div>\n"
      ]
     },
     "metadata": {},
     "output_type": "display_data"
    },
    {
     "data": {
      "application/javascript": [
       "(function(root) {\n",
       "  function embed_document(root) {\n",
       "    \n",
       "  var docs_json = {\"83b6aae6-6af6-48bb-8b18-593870ebc803\":{\"roots\":{\"references\":[{\"attributes\":{\"below\":[{\"id\":\"5339\",\"type\":\"LinearAxis\"}],\"center\":[{\"id\":\"5343\",\"type\":\"Grid\"},{\"id\":\"5348\",\"type\":\"Grid\"},{\"id\":\"5367\",\"type\":\"LabelSet\"}],\"left\":[{\"id\":\"5344\",\"type\":\"LinearAxis\"}],\"plot_height\":500,\"plot_width\":500,\"renderers\":[{\"id\":\"5365\",\"type\":\"GlyphRenderer\"}],\"title\":{\"id\":\"5331\",\"type\":\"Title\"},\"toolbar\":{\"id\":\"5355\",\"type\":\"Toolbar\"},\"toolbar_location\":\"above\",\"x_range\":{\"id\":\"5328\",\"type\":\"Range1d\"},\"x_scale\":{\"id\":\"5335\",\"type\":\"LinearScale\"},\"y_range\":{\"id\":\"5329\",\"type\":\"Range1d\"},\"y_scale\":{\"id\":\"5337\",\"type\":\"LinearScale\"}},\"id\":\"5330\",\"subtype\":\"Figure\",\"type\":\"Plot\"},{\"attributes\":{\"formatter\":{\"id\":\"5459\",\"type\":\"BasicTickFormatter\"},\"ticker\":{\"id\":\"5345\",\"type\":\"BasicTicker\"}},\"id\":\"5344\",\"type\":\"LinearAxis\"},{\"attributes\":{\"bottom_units\":\"screen\",\"fill_alpha\":{\"value\":0.5},\"fill_color\":{\"value\":\"lightgrey\"},\"left_units\":\"screen\",\"level\":\"overlay\",\"line_alpha\":{\"value\":1.0},\"line_color\":{\"value\":\"black\"},\"line_dash\":[4,4],\"line_width\":{\"value\":2},\"render_mode\":\"css\",\"right_units\":\"screen\",\"top_units\":\"screen\"},\"id\":\"5464\",\"type\":\"BoxAnnotation\"},{\"attributes\":{},\"id\":\"5340\",\"type\":\"BasicTicker\"},{\"attributes\":{\"callback\":null,\"data\":{\"desc\":[\"\\u59d1\",\"\\u59e5\",\"\\u5981\",\"\\u59b9\",\"\\u5988\",\"\\u59a3\",\"\\u515d\",\"\\u59a4\",\"\\u59ab\",\"\\u59d2\",\"\\u59ae\",\"\\u598d\",\"\\u5159\",\"\\u59c5\",\"\\u59dd\",\"\\u59c1\",\"\\u59d3\",\"\\u59ec\",\"\\u5162\",\"\\u5999\",\"\\u598e\",\"\\u59f2\",\"\\u5904\",\"\\u5978\",\"\\u5992\",\"\\u59aa\",\"\\u59af\",\"\\u5997\",\"\\u59c6\",\"\\u5996\",\"\\u5161\",\"\\u59b2\",\"\\u59f1\",\"\\u59e4\",\"\\u59b3\",\"\\u59ba\",\"\\u59e8\",\"\\u5987\",\"\\u59a2\",\"\\u515b\",\"\\u59e3\",\"\\u5982\",\"\\u59f9\",\"\\u5993\",\"\\u59c3\",\"\\u5974\",\"\\u597d\",\"\\u515e\",\"\\u59de\",\"\\u59d0\",\"\\u59a9\",\"\\u59cb\",\"\\u59ea\",\"\\u5983\",\"\\u4fce\",\"\\u59fa\",\"\\u59d8\",\"\\u59ca\",\"\\u597c\",\"\\u59cd\",\"\\u59bc\",\"\\u59a7\",\"\\u599e\",\"\\u59ee\",\"\\u59f7\",\"\\u59f6\",\"\\u59d7\",\"\\u5998\",\"\\u597b\",\"\\u52a0\",\"\\u59da\",\"\\u59ac\",\"\\u598a\",\"\\u5163\",\"\\u59c8\",\"\\u59a8\",\"\\u5976\",\"\\u5979\",\"\\u59d9\"],\"sizes\":[41.574870264535434,40.59452251574703,40.715487586493055,38.805756809806894,40.911395058369976,38.742732222976315,16.38669849107464,42.20624256197641,34.75336928993545,36.368792576549254,41.23180961350954,37.96546580211725,25.11520781772424,13.998460303882894,33.311137975564975,23.477610713158356,44.19898428790418,45.18386001682518,35.00013922573487,37.95724488704798,32.76008160264098,30.308501375328433,35.80820573625749,44.571256484774494,40.6692784835335,35.57599412273703,37.68763587935189,29.85292478885458,37.50162268837755,42.82269454769994,21.994752933638665,41.643705367122834,23.631120631835074,20.434849704251974,34.98082561767524,18.329610636970756,32.406552845063175,41.47786833731914,33.242783257838255,26.28667633186751,41.8631008859993,35.54002070332217,38.117502522100494,40.71732693533704,37.73779229455249,42.61933648963213,43.11644114806347,20.27058836472179,25.24478848096669,45.06688952149068,43.42493158602372,41.11565284463768,27.96961311656787,45.31871717904721,33.15323771727708,36.25423626950612,34.92311274319991,45.45527241279706,32.090693981210734,25.48457065952107,15.524166796018108,35.83314254473953,48.43551684672639,16.237431147961615,27.901439712979936,20.32811979303733,39.12073971976497,33.67705904161994,22.668386890454713,35.26477455402744,36.56147141052861,37.84979369034079,42.25093251461692,9.88317714136656,14.308052491133367,46.77598321873609,41.07726605160167,40.89094210255496,27.18511040009662],\"x\":{\"__ndarray__\":\"ERD6wM3MGsCKg+nAaNO2wJwHusAfR7u/38VewdO4XcANSAjBwjhbwK+sVcAJmZ3A4kFpwWP1kD9cVLrAiPy9PPCd7L9ByFjA9yw2wZ7HrsBClBDBCVrav88PUcEM1ETA/sLOwC/kP8B8gdrAu9fgQWWWGsD6janAdlhWwZNpisB7ydJBf7srwNVe+cBsX8fADaWRwEij4MCODhHB3HNpwQVCKMBvbffAYE8gv80OMMChaD3AJEZDwJ0MW8DObnHBQfoEwW36i8DqErTAKEDQQRXgz75DZZLAsquQwBWozMD/S5/AQC6MwLdF+L83y3e/zSjvwO+F2sDhz4fAUO2PwIJcCcE7TNFBJoWFv2MP5cAdfDXAwBQCwQ2BYz8D3bHAJ8giwHb4VME7R+BBc7rMwArBscAnp5s95sDXvw==\",\"dtype\":\"float32\",\"shape\":[79]},\"y\":{\"__ndarray__\":\"QDzzQBHEhUBegiRBhKYDQCN5FkEbsfNAgziTQBCpyECxxcBAU4fbvuLbIUFLfKtA9FGlQNSpaUBWaPM/MhbdQZNT2EBuCxFBkzzvQBwpmL+Xvk1AytD7P6twasH+MLVAed7UQC0MEEGfxAdBvSvwQfd7LUHW51FAoB3GQPBbHEHzu95BeS5HQQQqGUD9aKk/kgElQHx/J0FN811AmFqnQM29/T9EZzRBrr+9QJ4dAECBHgBBApplviaCuEBRvKJA9rP2QNjgF0EyemxAFIHoQVnZjkAhmAlB8KgoQWIiYEAmBq1AUVuKQKbWqEABhChBdiD4wdD5gkCK3PRAda8/QbpgFEFCBuhB11IoQbZQjkDY8IQ/8lE7QWnaYT4XqvdARVW6QOz6xkB+ivBBgkTLQNGO1kAvCQhBIL8MQQ==\",\"dtype\":\"float32\",\"shape\":[79]}},\"selected\":{\"id\":\"5463\",\"type\":\"Selection\"},\"selection_policy\":{\"id\":\"5462\",\"type\":\"UnionRenderers\"}},\"id\":\"5326\",\"type\":\"ColumnDataSource\"},{\"attributes\":{\"callback\":null,\"end\":15,\"start\":-5},\"id\":\"5329\",\"type\":\"Range1d\"},{\"attributes\":{},\"id\":\"5352\",\"type\":\"SaveTool\"},{\"attributes\":{\"source\":{\"id\":\"5326\",\"type\":\"ColumnDataSource\"}},\"id\":\"5366\",\"type\":\"CDSView\"},{\"attributes\":{},\"id\":\"5459\",\"type\":\"BasicTickFormatter\"},{\"attributes\":{},\"id\":\"5462\",\"type\":\"UnionRenderers\"},{\"attributes\":{},\"id\":\"5345\",\"type\":\"BasicTicker\"},{\"attributes\":{\"callback\":null,\"end\":2,\"start\":-10},\"id\":\"5328\",\"type\":\"Range1d\"},{\"attributes\":{\"active_drag\":\"auto\",\"active_inspect\":\"auto\",\"active_multi\":null,\"active_scroll\":\"auto\",\"active_tap\":\"auto\",\"tools\":[{\"id\":\"5349\",\"type\":\"PanTool\"},{\"id\":\"5350\",\"type\":\"WheelZoomTool\"},{\"id\":\"5351\",\"type\":\"BoxZoomTool\"},{\"id\":\"5352\",\"type\":\"SaveTool\"},{\"id\":\"5353\",\"type\":\"ResetTool\"},{\"id\":\"5354\",\"type\":\"HelpTool\"}]},\"id\":\"5355\",\"type\":\"Toolbar\"},{\"attributes\":{},\"id\":\"5349\",\"type\":\"PanTool\"},{\"attributes\":{\"overlay\":{\"id\":\"5464\",\"type\":\"BoxAnnotation\"}},\"id\":\"5351\",\"type\":\"BoxZoomTool\"},{\"attributes\":{\"formatter\":{\"id\":\"5461\",\"type\":\"BasicTickFormatter\"},\"ticker\":{\"id\":\"5340\",\"type\":\"BasicTicker\"}},\"id\":\"5339\",\"type\":\"LinearAxis\"},{\"attributes\":{},\"id\":\"5350\",\"type\":\"WheelZoomTool\"},{\"attributes\":{},\"id\":\"5337\",\"type\":\"LinearScale\"},{\"attributes\":{\"data_source\":{\"id\":\"5326\",\"type\":\"ColumnDataSource\"},\"glyph\":{\"id\":\"5363\",\"type\":\"Circle\"},\"hover_glyph\":null,\"muted_glyph\":null,\"nonselection_glyph\":{\"id\":\"5364\",\"type\":\"Circle\"},\"selection_glyph\":null,\"view\":{\"id\":\"5366\",\"type\":\"CDSView\"}},\"id\":\"5365\",\"type\":\"GlyphRenderer\"},{\"attributes\":{\"fill_alpha\":{\"value\":0.1},\"fill_color\":{\"value\":\"#1f77b4\"},\"line_alpha\":{\"value\":0.1},\"line_color\":{\"value\":\"#1f77b4\"},\"size\":{\"field\":\"sizes\",\"units\":\"screen\"},\"x\":{\"field\":\"x\"},\"y\":{\"field\":\"y\"}},\"id\":\"5364\",\"type\":\"Circle\"},{\"attributes\":{\"fill_alpha\":{\"value\":0.65},\"fill_color\":{\"value\":\"#1f77b4\"},\"line_color\":{\"value\":null},\"size\":{\"field\":\"sizes\",\"units\":\"screen\"},\"x\":{\"field\":\"x\"},\"y\":{\"field\":\"y\"}},\"id\":\"5363\",\"type\":\"Circle\"},{\"attributes\":{},\"id\":\"5335\",\"type\":\"LinearScale\"},{\"attributes\":{\"level\":\"glyph\",\"source\":{\"id\":\"5326\",\"type\":\"ColumnDataSource\"},\"text\":{\"field\":\"desc\"},\"x\":{\"field\":\"x\"},\"x_offset\":{\"value\":5},\"y\":{\"field\":\"y\"},\"y_offset\":{\"value\":5}},\"id\":\"5367\",\"type\":\"LabelSet\"},{\"attributes\":{\"text\":\"Cluster of Chinese characters (k-means visualized by t-SNE)\"},\"id\":\"5331\",\"type\":\"Title\"},{\"attributes\":{},\"id\":\"5461\",\"type\":\"BasicTickFormatter\"},{\"attributes\":{},\"id\":\"5354\",\"type\":\"HelpTool\"},{\"attributes\":{\"dimension\":1,\"ticker\":{\"id\":\"5345\",\"type\":\"BasicTicker\"}},\"id\":\"5348\",\"type\":\"Grid\"},{\"attributes\":{},\"id\":\"5353\",\"type\":\"ResetTool\"},{\"attributes\":{\"ticker\":{\"id\":\"5340\",\"type\":\"BasicTicker\"}},\"id\":\"5343\",\"type\":\"Grid\"},{\"attributes\":{},\"id\":\"5463\",\"type\":\"Selection\"}],\"root_ids\":[\"5330\"]},\"title\":\"Bokeh Application\",\"version\":\"1.4.0\"}};\n",
       "  var render_items = [{\"docid\":\"83b6aae6-6af6-48bb-8b18-593870ebc803\",\"roots\":{\"5330\":\"01ab9b7a-d23f-4f1d-9328-ef21be027357\"}}];\n",
       "  root.Bokeh.embed.embed_items_notebook(docs_json, render_items);\n",
       "\n",
       "  }\n",
       "  if (root.Bokeh !== undefined) {\n",
       "    embed_document(root);\n",
       "  } else {\n",
       "    var attempts = 0;\n",
       "    var timer = setInterval(function(root) {\n",
       "      if (root.Bokeh !== undefined) {\n",
       "        clearInterval(timer);\n",
       "        embed_document(root);\n",
       "      } else {\n",
       "        attempts++;\n",
       "        if (attempts > 100) {\n",
       "          clearInterval(timer);\n",
       "          console.log(\"Bokeh: ERROR: Unable to run BokehJS code because BokehJS library is missing\");\n",
       "        }\n",
       "      }\n",
       "    }, 10, root)\n",
       "  }\n",
       "})(window);"
      ],
      "application/vnd.bokehjs_exec.v0+json": ""
     },
     "metadata": {
      "application/vnd.bokehjs_exec.v0+json": {
       "id": "5330"
      }
     },
     "output_type": "display_data"
    }
   ],
   "source": [
    "output_notebook()\n",
    "\n",
    "s1 = ColumnDataSource(data=dict(\n",
    "    x=X_embedded[:,0][group7],\n",
    "    y=X_embedded[:,1][group7],\n",
    "    desc=np.array(L)[group7].tolist(),\n",
    "\n",
    "    sizes = list(sizes*4),\n",
    "   \n",
    "\n",
    "))\n",
    "\n",
    "\n",
    "mapper = linear_cmap(field_name='colors', palette=Category20[max(colors)] ,low=min(colors) ,high=max(colors))\n",
    "\n",
    "\n",
    "p1 = figure(plot_width=500, plot_height=500, toolbar_location=\"above\",x_range=Range1d(-10, 2),y_range=Range1d(-5, 15),\n",
    "           title=\"Cluster of Chinese characters (k-means visualized by t-SNE)\")\n",
    "\n",
    "p1.circle('x', 'y', size = 'sizes', line_color=None, fill_alpha=0.65, source=s1)\n",
    "\n",
    "labels = LabelSet(x='x', y='y', text='desc', level='glyph', \n",
    "              x_offset=5, y_offset=5, source=s1, render_mode='canvas')\n",
    "\n",
    "p1.add_layout(labels)\n",
    "show(p1)\n"
   ]
  },
  {
   "cell_type": "code",
   "execution_count": null,
   "metadata": {},
   "outputs": [],
   "source": [
    "print([len(array_text[i]) for i in range(15)])"
   ]
  },
  {
   "cell_type": "code",
   "execution_count": null,
   "metadata": {},
   "outputs": [],
   "source": [
    "reset_output()"
   ]
  },
  {
   "cell_type": "code",
   "execution_count": null,
   "metadata": {},
   "outputs": [],
   "source": []
  }
 ],
 "metadata": {
  "anaconda-cloud": {},
  "kernelspec": {
   "display_name": "Python 3",
   "language": "python",
   "name": "python3"
  },
  "language_info": {
   "codemirror_mode": {
    "name": "ipython",
    "version": 3
   },
   "file_extension": ".py",
   "mimetype": "text/x-python",
   "name": "python",
   "nbconvert_exporter": "python",
   "pygments_lexer": "ipython3",
   "version": "3.7.3"
  }
 },
 "nbformat": 4,
 "nbformat_minor": 2
}
